{
 "cells": [
  {
   "cell_type": "code",
   "execution_count": 16,
   "metadata": {},
   "outputs": [],
   "source": [
    "import pandas as pd\n",
    "\n",
    "# Dependencies\n",
    "from bs4 import BeautifulSoup\n",
    "import requests\n",
    "\n",
    "# Visualization\n",
    "import matplotlib.pyplot as plt\n",
    "plt.rcParams.update({'font.size': 22})\n"
   ]
  },
  {
   "cell_type": "code",
   "execution_count": 28,
   "metadata": {},
   "outputs": [
    {
     "data": {
      "text/plain": [
       "<pymongo.results.InsertManyResult at 0x1ed0b3a9600>"
      ]
     },
     "execution_count": 28,
     "metadata": {},
     "output_type": "execute_result"
    }
   ],
   "source": [
    "import pymongo   \n",
    "\n",
    "conn = 'mongodb://localhost:27017'\n",
    "client = pymongo.MongoClient(conn)\n",
    "db = client.quotes\n",
    "collection = db.quotes\n",
    "collection.delete_many({})\n",
    "collection.insert_many(all_quotes)"
   ]
  },
  {
   "cell_type": "code",
   "execution_count": 33,
   "metadata": {},
   "outputs": [],
   "source": [
    "quotes_mongo = list(collection.find())"
   ]
  },
  {
   "cell_type": "code",
   "execution_count": 43,
   "metadata": {},
   "outputs": [
    {
     "data": {
      "text/plain": [
       "50"
      ]
     },
     "execution_count": 43,
     "metadata": {},
     "output_type": "execute_result"
    }
   ],
   "source": [
    "all_author = []\n",
    "for quote in quotes_mongo:\n",
    "    author = {'author_name': quote['authorName'], \n",
    "             'born': quote['author']['born'],\n",
    "             'description':quote['author']['description']}\n",
    "    all_author.append(author)\n",
    "all_author_df = pd.DataFrame(all_author)\n",
    "len(all_author_df)\n",
    "all_unique_authors_df = all_author_df.drop_duplicates()\n",
    "len(all_unique_authors_df)"
   ]
  },
  {
   "cell_type": "code",
   "execution_count": 36,
   "metadata": {},
   "outputs": [
    {
     "data": {
      "text/plain": [
       "{'_id': ObjectId('60541152446f96d7cc1c305a'),\n",
       " 'authorName': 'Albert Einstein',\n",
       " 'quoteText': '“The world as we have created it is a process of our thinking. It cannot be changed without changing our thinking.”',\n",
       " 'about': 'https://quotes.toscrape.com//author/Albert-Einstein',\n",
       " 'tags': ['change', 'deep-thoughts', 'thinking', 'world'],\n",
       " 'author': {'born': 'March 14, 1879',\n",
       "  'name': 'Albert Einstein',\n",
       "  'description': 'In 1879, Albert Einstein was born in Ulm, Germany. He completed his Ph.D. at the University of Zurich by 1909. His 1905 paper explaining the photoelectric effect, the basis of electronics, earned him the Nobel Prize in 1921. His first paper on Special Relativity Theory, also published in 1905, changed the world. After the rise of the Nazi party, Einstein made Princeton his permanent home, becoming a U.S. citizen in 1940. Einstein, a pacifist during World War I, stayed a firm proponent of social justice and responsibility. He chaired the Emergency Committee of Atomic Scientists, which organized to alert the public to the dangers of atomic warfare.At a symposium, he advised: \"In their struggle for the ethical good, teachers of religion must have the stature to give up the doctrine of a personal God, that is, give up that source of fear and hope which in the past placed such vast power in the hands of priests. In their labors they will have to avail themselves of those forces which are capable of cultivating the Good, the True, and the Beautiful in humanity itself. This is, to be sure a more difficult but an incomparably more worthy task . . . \" (\"Science, Philosophy and Religion, A Symposium,\" published by the Conference on Science, Philosophy and Religion in their Relation to the Democratic Way of Life, Inc., New York, 1941). In a letter to philosopher Eric Gutkind, dated Jan. 3, 1954, Einstein stated: \"The word god is for me nothing more than the expression and product of human weaknesses, the Bible a collection of honorable, but still primitive legends which are nevertheless pretty childish. No interpretation no matter how subtle can (for me) change this,\" (The Guardian, \"Childish superstition: Einstein\\'s letter makes view of religion relatively clear,\" by James Randerson, May 13, 2008). D. 1955.While best known for his mass–energy equivalence formula E = mc2 (which has been dubbed \"the world\\'s most famous equation\"), he received the 1921 Nobel Prize in Physics \"for his services to theoretical physics, and especially for his discovery of the law of the photoelectric effect\". The latter was pivotal in establishing quantum theory.Einstein thought that Newtonion mechanics was no longer enough to reconcile the laws of classical mechanics with the laws of the electromagnetic field. This led to the development of his special theory of relativity. He realized, however, that the principle of relativity could also be extended to gravitational fields, and with his subsequent theory of gravitation in 1916, he published a paper on the general theory of relativity. He continued to deal with problems of statistical mechanics and quantum theory, which led to his explanations of particle theory and the motion of molecules. He also investigated the thermal properties of light which laid the foundation of the photon theory of light.He was visiting the United States when Adolf Hitler came to power in 1933 and did not go back to Germany. On the eve of World War II, he endorsed a letter to President Franklin D. Roosevelt alerting him to the potential development of \"extremely powerful bombs of a new type\" and recommending that the U.S. begin similar research. This eventually led to what would become the Manhattan Project. Einstein supported defending the Allied forces, but largely denounced the idea of using the newly discovered nuclear fission as a weapon. Later, with Bertrand Russell, Einstein signed the Russell–Einstein Manifesto, which highlighted the danger of nuclear weapons. Einstein was affiliated with the Institute for Advanced Study in Princeton, New Jersey, until his death in 1955.His great intellectual achievements and originality have made the word \"Einstein\" synonymous with genius.More: http://en.wikipedia.org/wiki/Albert_E...http://www.nobelprize.org/nobel_prize...'}}"
      ]
     },
     "execution_count": 36,
     "metadata": {},
     "output_type": "execute_result"
    }
   ],
   "source": [
    "quote = quotes_mongo[0]\n",
    "quote"
   ]
  },
  {
   "cell_type": "code",
   "execution_count": 20,
   "metadata": {},
   "outputs": [],
   "source": [
    "def get_author(url):\n",
    "    result = {}\n",
    "    response = requests.get(url)\n",
    "    soup =  BeautifulSoup(response.text, 'lxml')    \n",
    "    result['born'] = soup.find('span' , class_ = 'author-born-date').text.strip()\n",
    "    result['name'] = soup.h3.text.strip()\n",
    "    result['description'] = soup.find('div' , class_=\"author-description\").text.strip()\n",
    "    return result"
   ]
  },
  {
   "cell_type": "code",
   "execution_count": 21,
   "metadata": {},
   "outputs": [],
   "source": [
    "# URL of page to be scraped\n",
    "url = 'https://quotes.toscrape.com/'"
   ]
  },
  {
   "cell_type": "code",
   "execution_count": 22,
   "metadata": {},
   "outputs": [],
   "source": [
    "#NEED IT DONT DELETE\n",
    "def quote_data(quotes_data):\n",
    "    # Collect the quote\n",
    "    quoteText=quotes_data.span.text\n",
    "    \n",
    "    # Collect the author name\n",
    "    authorName=quotes_data.small.text\n",
    "    \n",
    "    # Collect author link\n",
    "    url_about=quotes_data.a['href']\n",
    "    author_link =url+url_about\n",
    "    author_data = get_author(author_link)\n",
    "    # Collect tags\n",
    "    #tag_container = quotes_data.find('div', {'class': 'tags'})\n",
    "    tag_container = quotes_data.find('div', class_= 'tags')\n",
    "\n",
    "    tag_links = tag_container.find_all('a')\n",
    "\n",
    "    tags = []\n",
    "    for tag in tag_links:\n",
    "        tags.append(tag.text)\n",
    "       \n",
    "    # Return data as a dictionary\n",
    "    return {'authorName': authorName,\n",
    "            'quoteText': quoteText,\n",
    "            'about': author_link,\n",
    "            'tags': tags,\n",
    "            'author': author_data}\n"
   ]
  },
  {
   "cell_type": "code",
   "execution_count": 23,
   "metadata": {},
   "outputs": [],
   "source": [
    "def scrape_page(quotes_data):\n",
    "    data = []\n",
    "    for div in quotes_data:\n",
    "        div_data = quote_data(div)\n",
    "        data.append(div_data)\n",
    "        \n",
    "    return data"
   ]
  },
  {
   "cell_type": "code",
   "execution_count": 24,
   "metadata": {},
   "outputs": [],
   "source": [
    "#NEED IT\n",
    "def scrape_quotes(url):\n",
    "    #print(url)\n",
    "    base_url = 'http://quotes.toscrape.com'\n",
    "    response = requests.get(url)\n",
    "    html = response.text\n",
    "    soup = BeautifulSoup(html, 'lxml')\n",
    "    quotes_data = soup.find_all('div', {'class': 'quote'})\n",
    "    data = scrape_page(quotes_data)\n",
    "    \n",
    "    pager = soup.find('ul', {'class': 'pager'})\n",
    "    if pager:\n",
    "        next_page = pager.find('li', {'class': 'next'})\n",
    "        \n",
    "    if next_page:\n",
    "        next_page =  next_page.findChild('a')\\\n",
    "                              .attrs\\\n",
    "                              .get('href')\n",
    "\n",
    "        next_page = base_url + next_page\n",
    "        print('Scraping', next_page)\n",
    "        ## This is where the recursion happens\n",
    "     #   data.extend (scrape_quotes(next_page))\n",
    "        data+= scrape_quotes(next_page)\n",
    "    \n",
    "\n",
    "    return data"
   ]
  },
  {
   "cell_type": "code",
   "execution_count": 25,
   "metadata": {},
   "outputs": [
    {
     "name": "stdout",
     "output_type": "stream",
     "text": [
      "Scraping http://quotes.toscrape.com/page/2/\n",
      "Scraping http://quotes.toscrape.com/page/3/\n",
      "Scraping http://quotes.toscrape.com/page/4/\n",
      "Scraping http://quotes.toscrape.com/page/5/\n",
      "Scraping http://quotes.toscrape.com/page/6/\n",
      "Scraping http://quotes.toscrape.com/page/7/\n",
      "Scraping http://quotes.toscrape.com/page/8/\n",
      "Scraping http://quotes.toscrape.com/page/9/\n",
      "Scraping http://quotes.toscrape.com/page/10/\n"
     ]
    }
   ],
   "source": [
    "all_quotes = scrape_quotes(url)"
   ]
  },
  {
   "cell_type": "code",
   "execution_count": 26,
   "metadata": {},
   "outputs": [
    {
     "name": "stdout",
     "output_type": "stream",
     "text": [
      "100 Quotes scraped!\n"
     ]
    }
   ],
   "source": [
    "print(len(all_quotes), 'Quotes scraped!')"
   ]
  },
  {
   "cell_type": "code",
   "execution_count": 27,
   "metadata": {},
   "outputs": [
    {
     "data": {
      "image/png": "[encoded data removed]",
      "text/plain": [
       "<Figure size 720x432 with 1 Axes>"
      ]
     },
     "metadata": {
      "needs_background": "light"
     },
     "output_type": "display_data"
    }
   ],
   "source": [
    "def count_tags(quote):\n",
    "    return len(quote['tags'])\n",
    "\n",
    "def tag_lengths(data):\n",
    "    lengths = []\n",
    "    for quote in data:\n",
    "        lengths.append(count_tags(quote))\n",
    "        \n",
    "    return lengths\n",
    "        \n",
    "lengths = tag_lengths(all_quotes)\n",
    "plt.figure(figsize=(10,6))   \n",
    "plt.hist(lengths, bins=9)\n",
    "plt.title('Number of Tags');"
   ]
  }
 ],
 "metadata": {
  "kernelspec": {
   "display_name": "Python 3",
   "language": "python",
   "name": "python3"
  },
  "language_info": {
   "codemirror_mode": {
    "name": "ipython",
    "version": 3
   },
   "file_extension": ".py",
   "mimetype": "text/x-python",
   "name": "python",
   "nbconvert_exporter": "python",
   "pygments_lexer": "ipython3",
   "version": "3.8.5"
  }
 },
 "nbformat": 4,
 "nbformat_minor": 4
}
